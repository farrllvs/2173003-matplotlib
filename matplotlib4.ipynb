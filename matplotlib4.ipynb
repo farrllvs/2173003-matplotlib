{
  "nbformat": 4,
  "nbformat_minor": 0,
  "metadata": {
    "colab": {
      "provenance": []
    },
    "kernelspec": {
      "name": "python3",
      "display_name": "Python 3"
    },
    "language_info": {
      "name": "python"
    }
  },
  "cells": [
    {
      "cell_type": "markdown",
      "source": [
        "**matplotlib 4**"
      ],
      "metadata": {
        "id": "cjcHhlN3VIfp"
      }
    },
    {
      "cell_type": "markdown",
      "source": [
        "**belajar histogram**"
      ],
      "metadata": {
        "id": "gBO_OLuxVLql"
      }
    },
    {
      "cell_type": "markdown",
      "source": [
        "**Import Modules**"
      ],
      "metadata": {
        "id": "U-zelWxVVPNv"
      }
    },
    {
      "cell_type": "code",
      "execution_count": 1,
      "metadata": {
        "id": "jvGGFsZjVHsC"
      },
      "outputs": [],
      "source": [
        "%matplotlib inline"
      ]
    },
    {
      "cell_type": "code",
      "source": [
        "import matplotlib\n",
        "import matplotlib.pyplot as plt\n",
        "import numpy as np\n",
        "\n",
        "print(matplotlib.__version__)\n",
        "print(np.__version__)"
      ],
      "metadata": {
        "colab": {
          "base_uri": "https://localhost:8080/"
        },
        "id": "f-DrfEI7VTL-",
        "outputId": "375bdf23-c4c0-4312-d18f-27b41ea8bf61"
      },
      "execution_count": 2,
      "outputs": [
        {
          "output_type": "stream",
          "name": "stdout",
          "text": [
            "3.2.2\n",
            "1.21.6\n"
          ]
        }
      ]
    },
    {
      "cell_type": "markdown",
      "source": [
        "**Sample Data**"
      ],
      "metadata": {
        "id": "dV_4PKcKVWoy"
      }
    },
    {
      "cell_type": "code",
      "source": [
        "mu, sigma = 100, 15 # sigma adalah stddev\n",
        "\n",
        "x = mu + sigma * np.random.randn(10000) # 10000 merepresentasikan jumlah data yang mau dihasilkan\n",
        "x"
      ],
      "metadata": {
        "colab": {
          "base_uri": "https://localhost:8080/"
        },
        "id": "uamVOs0-VeIz",
        "outputId": "4ee9070f-e9ea-43a5-a7d2-e5af52b7c548"
      },
      "execution_count": 3,
      "outputs": [
        {
          "output_type": "execute_result",
          "data": {
            "text/plain": [
              "array([112.45519046,  69.31659199, 115.4045435 , ..., 102.60204105,\n",
              "       110.06417843,  74.7318755 ])"
            ]
          },
          "metadata": {},
          "execution_count": 3
        }
      ]
    },
    {
      "cell_type": "code",
      "source": [
        "x.shape # Pembuktian jumlah data "
      ],
      "metadata": {
        "colab": {
          "base_uri": "https://localhost:8080/"
        },
        "id": "N-gChMf5Voq0",
        "outputId": "196b34a5-4408-4565-852b-eeb6db5ec51e"
      },
      "execution_count": 4,
      "outputs": [
        {
          "output_type": "execute_result",
          "data": {
            "text/plain": [
              "(10000,)"
            ]
          },
          "metadata": {},
          "execution_count": 4
        }
      ]
    },
    {
      "cell_type": "markdown",
      "source": [
        "**Histogram dengan pyplot Style**"
      ],
      "metadata": {
        "id": "jJJHsqVgVuAI"
      }
    },
    {
      "cell_type": "code",
      "source": [
        "plt.hist(x, \n",
        "         bins=50, \n",
        "         facecolor='g', # Green\n",
        "         alpha=0.50) # Bar Opacity = 50%\n",
        "          #(Dataset, bins)\n",
        "plt.xlabel('Sumbu X')#memberi nama sumbu X\n",
        "plt.ylabel('Sumbu Y')#memberi nama sumbu y\n",
        "plt.title('Contoh Histogram')#memberi judul\n",
        "\n",
        "plt.text(45, 500, '$\\mu=100,\\ \\sigma=15$') #memberi teks di dalam histogram\n",
        "plt.grid()\n",
        "\n",
        "plt.show()"
      ],
      "metadata": {
        "colab": {
          "base_uri": "https://localhost:8080/",
          "height": 295
        },
        "id": "X_ZTw56VV1Dy",
        "outputId": "4db72019-353b-4980-9782-e35715ab7625"
      },
      "execution_count": 5,
      "outputs": [
        {
          "output_type": "display_data",
          "data": {
            "text/plain": [
              "<Figure size 432x288 with 1 Axes>"
            ],
            "image/png": "[encoded data removed]"
          },
          "metadata": {
            "needs_background": "light"
          }
        }
      ]
    },
    {
      "cell_type": "markdown",
      "source": [
        "**Histogram dengan OO Style**"
      ],
      "metadata": {
        "id": "3rAT5dzJWQks"
      }
    },
    {
      "cell_type": "code",
      "source": [
        "fig, ax = plt.subplots()\n",
        "\n",
        "ax.hist(x, \n",
        "        bins=50, \n",
        "        facecolor='b', # Blue\n",
        "        alpha=0.25) # Bar Opacity = 25%\n",
        "\n",
        "ax.set_xlabel('Sumbu X')#memberi nama sumbu X\n",
        "ax.set_ylabel('Sumbu Y')#memberi nama sumbu y\n",
        "ax.set_title('Contoh Histogram')#memberi judul\n",
        "\n",
        "ax.text(45, 500, '$\\mu=100,\\ \\sigma=15$')#memberi teks di dalam histogram\n",
        "ax.grid()\n",
        "\n",
        "plt.show()"
      ],
      "metadata": {
        "colab": {
          "base_uri": "https://localhost:8080/",
          "height": 295
        },
        "id": "iy_wU6TOWS2D",
        "outputId": "3352cefa-b112-4342-8632-3a8a4c5a3300"
      },
      "execution_count": 6,
      "outputs": [
        {
          "output_type": "display_data",
          "data": {
            "text/plain": [
              "<Figure size 432x288 with 1 Axes>"
            ],
            "image/png": "[encoded data removed]"
          },
          "metadata": {
            "needs_background": "light"
          }
        }
      ]
    }
  ]
}