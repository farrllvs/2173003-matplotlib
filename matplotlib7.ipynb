{
  "nbformat": 4,
  "nbformat_minor": 0,
  "metadata": {
    "colab": {
      "provenance": []
    },
    "kernelspec": {
      "name": "python3",
      "display_name": "Python 3"
    },
    "language_info": {
      "name": "python"
    }
  },
  "cells": [
    {
      "cell_type": "markdown",
      "source": [
        "**Matplotlib 07**"
      ],
      "metadata": {
        "id": "wpDJcR8VoiQd"
      }
    },
    {
      "cell_type": "markdown",
      "source": [
        "**Belajar Table Plot | Table Chart**"
      ],
      "metadata": {
        "id": "S2vokxJNolhr"
      }
    },
    {
      "cell_type": "markdown",
      "source": [
        "**Import modules**"
      ],
      "metadata": {
        "id": "RKEEE1_won3M"
      }
    },
    {
      "cell_type": "code",
      "execution_count": 1,
      "metadata": {
        "id": "61kd-vFlodM8"
      },
      "outputs": [],
      "source": [
        "%matplotlib inline"
      ]
    },
    {
      "cell_type": "code",
      "source": [
        "import matplotlib\n",
        "import matplotlib.pyplot as plt\n",
        "import numpy as np\n",
        "\n",
        "print(matplotlib.__version__)\n",
        "print(np.__version__)"
      ],
      "metadata": {
        "colab": {
          "base_uri": "https://localhost:8080/"
        },
        "id": "6taIKxRFor_W",
        "outputId": "60f5fd1b-e7a3-4ed2-b777-4dc5e70377a2"
      },
      "execution_count": 2,
      "outputs": [
        {
          "output_type": "stream",
          "name": "stdout",
          "text": [
            "3.2.2\n",
            "1.21.6\n"
          ]
        }
      ]
    },
    {
      "cell_type": "markdown",
      "source": [
        "**Sample Data**"
      ],
      "metadata": {
        "id": "crDeeE23o5M0"
      }
    },
    {
      "cell_type": "code",
      "source": [
        "# membuat list 2 dimensi\n",
        "data_uas=[\n",
        "    ['Bejo', 70],\n",
        "    ['Tejo', 83],\n",
        "    ['Cecep', 62],\n",
        "    ['Wati', 74],\n",
        "    ['Karti', 71]\n",
        "]\n",
        "\n",
        "data_uas"
      ],
      "metadata": {
        "colab": {
          "base_uri": "https://localhost:8080/"
        },
        "id": "PoQRaDIWo7Ak",
        "outputId": "243f4350-d284-46e0-b483-8ea99c37b3a2"
      },
      "execution_count": 3,
      "outputs": [
        {
          "output_type": "execute_result",
          "data": {
            "text/plain": [
              "[['Bejo', 70], ['Tejo', 83], ['Cecep', 62], ['Wati', 74], ['Karti', 71]]"
            ]
          },
          "metadata": {},
          "execution_count": 3
        }
      ]
    },
    {
      "cell_type": "markdown",
      "source": [
        "**Table Plot dengan OO Style**"
      ],
      "metadata": {
        "id": "MJwkZRXlpDgr"
      }
    },
    {
      "cell_type": "code",
      "source": [
        "fig, ax = plt.subplots()\n",
        "\n",
        "table = plt.table(cellText=data_uas, \n",
        "                  loc='center') #memberi 2 parameter \n",
        "\n",
        "# atribut dari objek table\n",
        "table.set_fontsize(14) # ukuran huruf\n",
        "table.scale(1, 4) # ukuran kolom, baris\n",
        "\n",
        "ax.axis(False) # untuk meniadakan axis (bagian dari axes)\n",
        "\n",
        "plt.show()"
      ],
      "metadata": {
        "colab": {
          "base_uri": "https://localhost:8080/",
          "height": 271
        },
        "id": "T5BcGk31pFC5",
        "outputId": "c4bb579e-6276-4050-e7e9-107e8ee1b998"
      },
      "execution_count": 4,
      "outputs": [
        {
          "output_type": "display_data",
          "data": {
            "text/plain": [
              "<Figure size 432x288 with 1 Axes>"
            ],
            "image/png": "[encoded data removed]"
          },
          "metadata": {
            "needs_background": "light"
          }
        }
      ]
    },
    {
      "cell_type": "markdown",
      "source": [
        "**Table Plot dengan pyplot Style**"
      ],
      "metadata": {
        "id": "ehAT6a74pN4L"
      }
    },
    {
      "cell_type": "code",
      "source": [
        "table = plt.table(cellText=data_uas, \n",
        "                  loc='center')\n",
        "\n",
        "table.set_fontsize(14)\n",
        "table.scale(1, 4) # ukuran kolom, baris\n",
        "\n",
        "ax = plt.gca()# menghilangkan axis\n",
        "ax.axis(False)\n",
        "\n",
        "plt.show()"
      ],
      "metadata": {
        "colab": {
          "base_uri": "https://localhost:8080/",
          "height": 271
        },
        "id": "Tf415hanp6LX",
        "outputId": "ddb1e350-9cb9-4d05-cad2-655f5422dabc"
      },
      "execution_count": 5,
      "outputs": [
        {
          "output_type": "display_data",
          "data": {
            "text/plain": [
              "<Figure size 432x288 with 1 Axes>"
            ],
            "image/png": "[encoded data removed]"
          },
          "metadata": {
            "needs_background": "light"
          }
        }
      ]
    }
  ]
}