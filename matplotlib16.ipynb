{
  "nbformat": 4,
  "nbformat_minor": 0,
  "metadata": {
    "colab": {
      "provenance": []
    },
    "kernelspec": {
      "name": "python3",
      "display_name": "Python 3"
    },
    "language_info": {
      "name": "python"
    }
  },
  "cells": [
    {
      "cell_type": "markdown",
      "source": [
        "**Matplotlib 16**"
      ],
      "metadata": {
        "id": "FwJk2hiBMPn0"
      }
    },
    {
      "cell_type": "markdown",
      "source": [
        "**Alur Hidup Plot | Plot Lifecycle**"
      ],
      "metadata": {
        "id": "sQ-0H9ZwMVip"
      }
    },
    {
      "cell_type": "markdown",
      "source": [
        "**Import modules**"
      ],
      "metadata": {
        "id": "mvTycRuAMZj3"
      }
    },
    {
      "cell_type": "code",
      "source": [
        "# Magic command\n",
        "%matplotlib inline"
      ],
      "metadata": {
        "id": "OwKdshx5MdHC"
      },
      "execution_count": 1,
      "outputs": []
    },
    {
      "cell_type": "code",
      "source": [
        "import matplotlib\n",
        "import matplotlib.pyplot as plt\n",
        "import numpy as np\n",
        "\n",
        "# Cek versi\n",
        "print(matplotlib.__version__)\n",
        "print(np.__version__)"
      ],
      "metadata": {
        "colab": {
          "base_uri": "https://localhost:8080/"
        },
        "id": "FDCQ1wVYMgy-",
        "outputId": "5cbdeca8-02a5-48e5-9d8d-d33b59c4b434"
      },
      "execution_count": 2,
      "outputs": [
        {
          "output_type": "stream",
          "name": "stdout",
          "text": [
            "3.2.2\n",
            "1.21.6\n"
          ]
        }
      ]
    },
    {
      "cell_type": "markdown",
      "source": [
        "**Sample Dataset**"
      ],
      "metadata": {
        "id": "eGFYoMEcMmq9"
      }
    },
    {
      "cell_type": "code",
      "source": [
        "data = {'Item A': 109438,\n",
        "        'Item B': 103569,\n",
        "        'Item C': 112214,\n",
        "        'Item D': 112591,\n",
        "        'Item E': 100934,\n",
        "        'Item F': 103660,\n",
        "        'Item G': 137351,\n",
        "        'Item H': 123381,\n",
        "        'Item I': 135841,\n",
        "        'Item J': 104437}\n",
        "\n",
        "data"
      ],
      "metadata": {
        "colab": {
          "base_uri": "https://localhost:8080/"
        },
        "id": "ewoRWjPiMqLq",
        "outputId": "6fb8c678-963b-4aa5-e5d9-e755f9560f88"
      },
      "execution_count": 3,
      "outputs": [
        {
          "output_type": "execute_result",
          "data": {
            "text/plain": [
              "{'Item A': 109438,\n",
              " 'Item B': 103569,\n",
              " 'Item C': 112214,\n",
              " 'Item D': 112591,\n",
              " 'Item E': 100934,\n",
              " 'Item F': 103660,\n",
              " 'Item G': 137351,\n",
              " 'Item H': 123381,\n",
              " 'Item I': 135841,\n",
              " 'Item J': 104437}"
            ]
          },
          "metadata": {},
          "execution_count": 3
        }
      ]
    },
    {
      "cell_type": "code",
      "source": [
        "items = tuple(data.keys()) #menampung di dalam variabl menggunakan tuple\n",
        "items"
      ],
      "metadata": {
        "colab": {
          "base_uri": "https://localhost:8080/"
        },
        "id": "GYk3Jm-iNLL8",
        "outputId": "8b2b9d9e-0af1-4995-bc95-3f72f44d30cd"
      },
      "execution_count": 5,
      "outputs": [
        {
          "output_type": "execute_result",
          "data": {
            "text/plain": [
              "('Item A',\n",
              " 'Item B',\n",
              " 'Item C',\n",
              " 'Item D',\n",
              " 'Item E',\n",
              " 'Item F',\n",
              " 'Item G',\n",
              " 'Item H',\n",
              " 'Item I',\n",
              " 'Item J')"
            ]
          },
          "metadata": {},
          "execution_count": 5
        }
      ]
    },
    {
      "cell_type": "code",
      "source": [
        "count = tuple(data.values()) #menampung di dalam variabl menggunakan tuple\n",
        "count"
      ],
      "metadata": {
        "colab": {
          "base_uri": "https://localhost:8080/"
        },
        "id": "3o-imPFONVT4",
        "outputId": "0319c486-5c80-4fe1-d975-9b3b1ec7350a"
      },
      "execution_count": 6,
      "outputs": [
        {
          "output_type": "execute_result",
          "data": {
            "text/plain": [
              "(109438,\n",
              " 103569,\n",
              " 112214,\n",
              " 112591,\n",
              " 100934,\n",
              " 103660,\n",
              " 137351,\n",
              " 123381,\n",
              " 135841,\n",
              " 104437)"
            ]
          },
          "metadata": {},
          "execution_count": 6
        }
      ]
    },
    {
      "cell_type": "markdown",
      "source": [
        "**Simple Plot**"
      ],
      "metadata": {
        "id": "1yUDATMBNbL5"
      }
    },
    {
      "cell_type": "code",
      "source": [
        "fig, ax = plt.subplots() #menggunakan plotting oo style\n",
        "\n",
        "ax.barh(items, count)\n",
        "\n",
        "plt.show()"
      ],
      "metadata": {
        "colab": {
          "base_uri": "https://localhost:8080/",
          "height": 265
        },
        "id": "Q16tJmozNis6",
        "outputId": "786e9558-15d4-40a9-ab45-9d71730eb3e4"
      },
      "execution_count": 7,
      "outputs": [
        {
          "output_type": "display_data",
          "data": {
            "text/plain": [
              "<Figure size 432x288 with 1 Axes>"
            ],
            "image/png": "[encoded data removed]"
          },
          "metadata": {
            "needs_background": "light"
          }
        }
      ]
    },
    {
      "cell_type": "markdown",
      "source": [
        "**Pengaturan Style**"
      ],
      "metadata": {
        "id": "yizxntglNr4l"
      }
    },
    {
      "cell_type": "code",
      "source": [
        "plt.style.available #mengetahui jenis style apa saja yang bisa digunakan"
      ],
      "metadata": {
        "colab": {
          "base_uri": "https://localhost:8080/"
        },
        "id": "pO2h-mMeNsws",
        "outputId": "c6c748e8-a230-44cf-bd35-d5fcbb6c8c2d"
      },
      "execution_count": 8,
      "outputs": [
        {
          "output_type": "execute_result",
          "data": {
            "text/plain": [
              "['Solarize_Light2',\n",
              " '_classic_test_patch',\n",
              " 'bmh',\n",
              " 'classic',\n",
              " 'dark_background',\n",
              " 'fast',\n",
              " 'fivethirtyeight',\n",
              " 'ggplot',\n",
              " 'grayscale',\n",
              " 'seaborn',\n",
              " 'seaborn-bright',\n",
              " 'seaborn-colorblind',\n",
              " 'seaborn-dark',\n",
              " 'seaborn-dark-palette',\n",
              " 'seaborn-darkgrid',\n",
              " 'seaborn-deep',\n",
              " 'seaborn-muted',\n",
              " 'seaborn-notebook',\n",
              " 'seaborn-paper',\n",
              " 'seaborn-pastel',\n",
              " 'seaborn-poster',\n",
              " 'seaborn-talk',\n",
              " 'seaborn-ticks',\n",
              " 'seaborn-white',\n",
              " 'seaborn-whitegrid',\n",
              " 'tableau-colorblind10']"
            ]
          },
          "metadata": {},
          "execution_count": 8
        }
      ]
    },
    {
      "cell_type": "code",
      "source": [
        "plt.style.use('grayscale') #menggunakan style grayscale\n",
        "\n",
        "fig, ax = plt.subplots()\n",
        "ax.barh(items, count)\n",
        "plt.show()"
      ],
      "metadata": {
        "colab": {
          "base_uri": "https://localhost:8080/",
          "height": 265
        },
        "id": "jjdY2GvtN0va",
        "outputId": "64ead561-d6ea-4f88-c8a9-35824b5b9f35"
      },
      "execution_count": 9,
      "outputs": [
        {
          "output_type": "display_data",
          "data": {
            "text/plain": [
              "<Figure size 432x288 with 1 Axes>"
            ],
            "image/png": "[encoded data removed]"
          },
          "metadata": {}
        }
      ]
    },
    {
      "cell_type": "markdown",
      "source": [
        "**Pengaturan Tick Label**"
      ],
      "metadata": {
        "id": "wZMsEYCyN6UL"
      }
    },
    {
      "cell_type": "code",
      "source": [
        "fig, ax = plt.subplots()\n",
        "ax.barh(items, count)\n",
        "\n",
        "labels = ax.get_xticklabels() #menangkap objek dari ticks label\n",
        "\n",
        "# pengaturan properties\n",
        "plt.setp(labels,\n",
        "         rotation=45,\n",
        "         horizontalalignment='right')\n",
        "\n",
        "plt.show()"
      ],
      "metadata": {
        "colab": {
          "base_uri": "https://localhost:8080/",
          "height": 289
        },
        "id": "mOsWA8iwN675",
        "outputId": "764352a8-00df-49b0-ac3f-ae3577c46405"
      },
      "execution_count": 10,
      "outputs": [
        {
          "output_type": "display_data",
          "data": {
            "text/plain": [
              "<Figure size 432x288 with 1 Axes>"
            ],
            "image/png": "[encoded data removed]"
          },
          "metadata": {}
        }
      ]
    },
    {
      "cell_type": "markdown",
      "source": [
        "**Pengaturan Format pada Ticker**"
      ],
      "metadata": {
        "id": "rqgGPdRHOWmG"
      }
    },
    {
      "cell_type": "code",
      "source": [
        "from matplotlib.ticker import FuncFormatter #import funcformatter"
      ],
      "metadata": {
        "id": "eAKX7bs4OXMd"
      },
      "execution_count": 11,
      "outputs": []
    },
    {
      "cell_type": "code",
      "source": [
        "# Membuat fungsi yang mengkonversi ribuan menjadi huruf 'k'\n",
        "def ribuan(x, pos):\n",
        "    return f'{int(x/1000)}K'"
      ],
      "metadata": {
        "id": "mSN-Az5KOdc-"
      },
      "execution_count": 12,
      "outputs": []
    },
    {
      "cell_type": "code",
      "source": [
        "fig, ax = plt.subplots()\n",
        "ax.barh(items, count)\n",
        "\n",
        "formatter = FuncFormatter(ribuan)\n",
        "ax.xaxis.set_major_formatter(formatter)\n",
        "\n",
        "ax.set(title='Contoh Plot', \n",
        "       xlabel='Jumlah', \n",
        "       ylabel='Items')\n",
        "\n",
        "plt.show()"
      ],
      "metadata": {
        "colab": {
          "base_uri": "https://localhost:8080/",
          "height": 295
        },
        "id": "t9pDHZKHOfCQ",
        "outputId": "8d5732cb-3c36-4d58-9673-d569cac13299"
      },
      "execution_count": 13,
      "outputs": [
        {
          "output_type": "display_data",
          "data": {
            "text/plain": [
              "<Figure size 432x288 with 1 Axes>"
            ],
            "image/png": "[encoded data removed]"
          },
          "metadata": {}
        }
      ]
    },
    {
      "cell_type": "markdown",
      "source": [
        "**Pengaturan Label pada Sumbu (axis) dan Judul (title)**"
      ],
      "metadata": {
        "id": "QR32jTqvOii6"
      }
    },
    {
      "cell_type": "code",
      "source": [
        "fig, ax = plt.subplots()\n",
        "ax.barh(items, count)\n",
        "\n",
        "ax.set(title='Contoh Plot', \n",
        "       xlabel='Jumlah', \n",
        "       ylabel='Items')\n",
        "\n",
        "plt.show()\n"
      ],
      "metadata": {
        "colab": {
          "base_uri": "https://localhost:8080/",
          "height": 295
        },
        "id": "_C_TI9hJOkTd",
        "outputId": "fe93fb1d-a621-4cb9-d038-6d63c63b0d1c"
      },
      "execution_count": 14,
      "outputs": [
        {
          "output_type": "display_data",
          "data": {
            "text/plain": [
              "<Figure size 432x288 with 1 Axes>"
            ],
            "image/png": "[encoded data removed]"
          },
          "metadata": {}
        }
      ]
    },
    {
      "cell_type": "markdown",
      "source": [
        "**Penambahan Garis (vertical/horisontal line) pada Plot**"
      ],
      "metadata": {
        "id": "v5NEFpsTOqJA"
      }
    },
    {
      "cell_type": "code",
      "source": [
        "fig, ax = plt.subplots()\n",
        "ax.barh(items, count)\n",
        "\n",
        "ax.axvline(np.mean(count),  #menunjukan garis vertikal \n",
        "           ls='--', \n",
        "           color='r')\n",
        "\n",
        "ax.set(title='Contoh Plot', \n",
        "       xlabel='Jumlah', \n",
        "       ylabel='Items')\n",
        "\n",
        "plt.show()"
      ],
      "metadata": {
        "colab": {
          "base_uri": "https://localhost:8080/",
          "height": 295
        },
        "id": "9FUxYv5DOrga",
        "outputId": "1687058a-8465-4189-93cd-1994aa822a2c"
      },
      "execution_count": 15,
      "outputs": [
        {
          "output_type": "display_data",
          "data": {
            "text/plain": [
              "<Figure size 432x288 with 1 Axes>"
            ],
            "image/png": "[encoded data removed]"
          },
          "metadata": {}
        }
      ]
    },
    {
      "cell_type": "markdown",
      "source": [
        "**Menyimpan Hasil Plot Ke dalam Suatu File**"
      ],
      "metadata": {
        "id": "DgvOO9wlO4Dp"
      }
    },
    {
      "cell_type": "code",
      "source": [
        "fig.canvas.get_supported_filetypes() #melihat tipe apa saja yang support pada matplotlib"
      ],
      "metadata": {
        "colab": {
          "base_uri": "https://localhost:8080/"
        },
        "id": "njomnAGJPAqm",
        "outputId": "8451cc20-0360-4982-885e-832155583d0c"
      },
      "execution_count": 16,
      "outputs": [
        {
          "output_type": "execute_result",
          "data": {
            "text/plain": [
              "{'ps': 'Postscript',\n",
              " 'eps': 'Encapsulated Postscript',\n",
              " 'pdf': 'Portable Document Format',\n",
              " 'pgf': 'PGF code for LaTeX',\n",
              " 'png': 'Portable Network Graphics',\n",
              " 'raw': 'Raw RGBA bitmap',\n",
              " 'rgba': 'Raw RGBA bitmap',\n",
              " 'svg': 'Scalable Vector Graphics',\n",
              " 'svgz': 'Scalable Vector Graphics',\n",
              " 'jpg': 'Joint Photographic Experts Group',\n",
              " 'jpeg': 'Joint Photographic Experts Group',\n",
              " 'tif': 'Tagged Image File Format',\n",
              " 'tiff': 'Tagged Image File Format'}"
            ]
          },
          "metadata": {},
          "execution_count": 16
        }
      ]
    },
    {
      "cell_type": "code",
      "source": [
        "fig, ax = plt.subplots()\n",
        "ax.barh(items, count)\n",
        "\n",
        "ax.axvline(np.mean(count),\n",
        "           ls='--',\n",
        "           color='r')\n",
        "\n",
        "ax.set(title='Contoh Plot',\n",
        "       xlabel='Jumlah',\n",
        "       ylabel='Items')\n",
        "\n",
        "fig.savefig('Sales.png',\n",
        "            transparent=True,\n",
        "            dpi=80)"
      ],
      "metadata": {
        "colab": {
          "base_uri": "https://localhost:8080/",
          "height": 295
        },
        "id": "EDqipvqgPQIM",
        "outputId": "b0cfa390-6012-4648-cf66-baa39698f7a0"
      },
      "execution_count": 17,
      "outputs": [
        {
          "output_type": "display_data",
          "data": {
            "text/plain": [
              "<Figure size 432x288 with 1 Axes>"
            ],
            "image/png": "[encoded data removed]"
          },
          "metadata": {}
        }
      ]
    }
  ]
}