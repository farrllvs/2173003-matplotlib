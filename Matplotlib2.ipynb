{
  "nbformat": 4,
  "nbformat_minor": 0,
  "metadata": {
    "colab": {
      "provenance": []
    },
    "kernelspec": {
      "name": "python3",
      "display_name": "Python 3"
    },
    "language_info": {
      "name": "python"
    }
  },
  "cells": [
    {
      "cell_type": "markdown",
      "source": [
        "**Matplotlib 02**"
      ],
      "metadata": {
        "id": "JnY0CZiiPY7H"
      }
    },
    {
      "cell_type": "markdown",
      "source": [
        "**Pengenalan pyplot**"
      ],
      "metadata": {
        "id": "fXa-XdUNPcE1"
      }
    },
    {
      "cell_type": "markdown",
      "source": [
        "\n",
        "\n",
        "*   pyplot merupakan koleksi atau kumpulan fungsi yang menjadikan Matplotlib dapat bekerja menyerupai MATLAB\n",
        "*   pyplot API secara umum less-flexible bila dibandingkan object-oriented API.\n",
        "\n"
      ],
      "metadata": {
        "id": "5mAIDpoRPdkZ"
      }
    },
    {
      "cell_type": "markdown",
      "source": [
        "**Import Modules**"
      ],
      "metadata": {
        "id": "h1FULlD5Pixs"
      }
    },
    {
      "cell_type": "markdown",
      "source": [
        "%matplotlib inline digunakan agar setiap grafik ditampilkan secara ‘inline’, dimana itu akan ditampilkan langsung pada cell notebook."
      ],
      "metadata": {
        "id": "cXj72SWsPmn4"
      }
    },
    {
      "cell_type": "code",
      "execution_count": 1,
      "metadata": {
        "id": "cxCgeNluPUfm"
      },
      "outputs": [],
      "source": [
        "%matplotlib inline"
      ]
    },
    {
      "cell_type": "code",
      "source": [
        "import matplotlib\n",
        "import matplotlib.pyplot as plt\n",
        "import numpy as np\n",
        "\n",
        "#Cara mengetahui versi matplotlib\n",
        "print(matplotlib.__version__)\n",
        "print(np.__version__)"
      ],
      "metadata": {
        "colab": {
          "base_uri": "https://localhost:8080/"
        },
        "id": "dAnD3bB6PqgP",
        "outputId": "a9eec6dd-e1b2-4963-8e86-0af4a1958340"
      },
      "execution_count": 2,
      "outputs": [
        {
          "output_type": "stream",
          "name": "stdout",
          "text": [
            "3.2.2\n",
            "1.21.6\n"
          ]
        }
      ]
    },
    {
      "cell_type": "markdown",
      "source": [
        "Membuat Plotting Sederhana"
      ],
      "metadata": {
        "id": "LOtuHK98Pxtq"
      }
    },
    {
      "cell_type": "code",
      "source": [
        "plt.plot([2, 5, 7, 8])\n",
        "plt.ylabel('sumbu y')\n",
        "plt.show()"
      ],
      "metadata": {
        "colab": {
          "base_uri": "https://localhost:8080/",
          "height": 265
        },
        "id": "5jDLzh40Pz6Q",
        "outputId": "1dd32330-61ee-4daf-8b51-a4368e64ab98"
      },
      "execution_count": 3,
      "outputs": [
        {
          "output_type": "display_data",
          "data": {
            "text/plain": [
              "<Figure size 432x288 with 1 Axes>"
            ],
            "image/png": "[encoded data removed]"
          },
          "metadata": {
            "needs_background": "light"
          }
        }
      ]
    },
    {
      "cell_type": "markdown",
      "source": [
        "\n",
        "\n",
        "*   Pemanggilan fungsi plot() dapat dilakukan dengan menyertakan hanya sebuah deret bilangan (list/array) ataupun dua buah deret bilangan (list/array).\n",
        "*   Bila pemanggilan hanya menyertakan sebuah deret bilangan, maka nilai pada deret bilangan tersebut akan dijadikan data point untuk nilai pada sumbu y; sedangkan nilai pada sumbu x akan secara otomatis dibuatkan sebuah deret bilangan terutut dengan nilai dimulai dari nol.\n",
        "\n"
      ],
      "metadata": {
        "id": "7kJU8yFGQKWE"
      }
    },
    {
      "cell_type": "code",
      "source": [
        "plt.plot([2, 3, 4, 7], [5, 4, 2, 16])\n",
        "plt.show()"
      ],
      "metadata": {
        "colab": {
          "base_uri": "https://localhost:8080/",
          "height": 265
        },
        "id": "s_IDYQ0IQQBp",
        "outputId": "1b545b14-4f53-4cee-f7a2-def2946a05c5"
      },
      "execution_count": 4,
      "outputs": [
        {
          "output_type": "display_data",
          "data": {
            "text/plain": [
              "<Figure size 432x288 with 1 Axes>"
            ],
            "image/png": "[encoded data removed]"
          },
          "metadata": {
            "needs_background": "light"
          }
        }
      ]
    },
    {
      "cell_type": "markdown",
      "source": [
        "\n",
        "\n",
        "*   Pada bagian deret bilangan pertama yaitu [2, 3, 4, 7], akan dijadikan data point untuk nilai pada sumbu x.\n",
        "\n",
        "*   Pada deret bilangan kedua yaitu [5, 4, 2, 16], akan dijadikan data point untuk nilai pada sumbu y.\n",
        "*   Deret-deret tersebut dapat kita baca sebagai [(2,5), (3,4), (4,2), (7,16)]\n",
        "\n"
      ],
      "metadata": {
        "id": "sMJBB1jAQRtx"
      }
    },
    {
      "cell_type": "markdown",
      "source": [
        "**Pengaturan Format pada plot**"
      ],
      "metadata": {
        "id": "pFmQJiirQdzx"
      }
    },
    {
      "cell_type": "markdown",
      "source": [
        "\n",
        "\n",
        "*   Selain menyertakan dua buah deret bilangan sebagai parameter untuk sumbu x dan y, terdapat parameter ketiga yang bisa kita sertakan untuk mengatur warna dan jenis plotting.\n",
        "*   Pengaturan parameter ketiga ini sepenuhnya mengadopsi gaya formatting pada MATLAB.\n",
        "\n",
        "\n",
        "*   Nilai default untuk parameter ketiga ini adalah 'b-'.\n",
        "*   Parameter ketiga ialah pengatur bentuk marker\n",
        "\n",
        "*   Warna dari parameter ketiga dapat di ubah menjadi r (red), g (green), dll.\n",
        "*   Bentuk marker dari parameter ketiga dapat di ubah menjadi 'o', ' * ', dll.\n",
        "\n",
        "*   Contoh penggunaan parameter ketiga 'b-', 'g*', 'ro'.\n",
        "*   Pemanggilan fungsi axis() menyertakan sebuah list [xmin, xmax, ymin, ymax].\n",
        "\n",
        "\n",
        "\n",
        "\n",
        "\n",
        "\n",
        "\n"
      ],
      "metadata": {
        "id": "jZ_UM0hVQf7R"
      }
    },
    {
      "cell_type": "code",
      "source": [
        "plt.plot([1, 2, 3, 4], [1, 4, 9, 16], 'go')\n",
        "plt.axis([0, 6, 0, 20])\n",
        "plt.show()"
      ],
      "metadata": {
        "colab": {
          "base_uri": "https://localhost:8080/",
          "height": 269
        },
        "id": "00YIX3rWQy9a",
        "outputId": "0e89530d-69b8-4a0e-b70b-123f67f93a8c"
      },
      "execution_count": 5,
      "outputs": [
        {
          "output_type": "display_data",
          "data": {
            "text/plain": [
              "<Figure size 432x288 with 1 Axes>"
            ],
            "image/png": "[encoded data removed]"
          },
          "metadata": {
            "needs_background": "light"
          }
        }
      ]
    },
    {
      "cell_type": "markdown",
      "source": [
        "\n",
        "\n",
        "*   Pada kasus ini, parameter ketiga yang digunakan adalah 'go' yang berarti berwarna 'green, dan berbentuk marker 'o'.\n",
        "*   Fungsi axis() bertujuan untuk menentukan batas nilai dari setiap sumbu.\n",
        "\n",
        "*   Rentang sumbu x dan sumbu y masing-masing pada kasus ini adalah 0 - 6 dan 0 - 20.\n",
        "\n",
        "\n",
        "\n"
      ],
      "metadata": {
        "id": "E524MOKwQ3Jm"
      }
    },
    {
      "cell_type": "markdown",
      "source": [
        "**Multi plot dalam Satu Pemanggilan Fungsi plot()**"
      ],
      "metadata": {
        "id": "tE3P4wtXQ89d"
      }
    },
    {
      "cell_type": "markdown",
      "source": [
        "\n",
        "\n",
        "*   Fungsi arange() memiliki parameter (min_value, max_value, step_value)\n",
        "*   Nilai 0. dan 5. menandakan bahwa mereka masing-masing bernilai floating point yaitu '0f dan 5f.'\n",
        "\n",
        "*   Nilai 0. dan 5. masing-masing juga merepresentasikan nilai terendah dan nilai tertinggi.\n",
        "\n",
        "\n",
        "\n"
      ],
      "metadata": {
        "id": "GdGJ7CCMQ_qV"
      }
    },
    {
      "cell_type": "code",
      "source": [
        "t = np.arange(0., 5., 0.2)\n",
        "t"
      ],
      "metadata": {
        "colab": {
          "base_uri": "https://localhost:8080/"
        },
        "id": "H1YYm38nRONT",
        "outputId": "98c0998e-976d-46d8-8f68-4888a60b2bf6"
      },
      "execution_count": 6,
      "outputs": [
        {
          "output_type": "execute_result",
          "data": {
            "text/plain": [
              "array([0. , 0.2, 0.4, 0.6, 0.8, 1. , 1.2, 1.4, 1.6, 1.8, 2. , 2.2, 2.4,\n",
              "       2.6, 2.8, 3. , 3.2, 3.4, 3.6, 3.8, 4. , 4.2, 4.4, 4.6, 4.8])"
            ]
          },
          "metadata": {},
          "execution_count": 6
        }
      ]
    },
    {
      "cell_type": "markdown",
      "source": [
        "\n",
        "\n",
        "*   Untuk membuat plot dengan garis putus-putus kita dapat menggunakan simbol --.\n",
        "*   Untuk membuat plot dengan marker kotak kita dapat menggunakan simbol s (square).\n",
        "\n",
        "*   Untuk membuat plot dengan marker segitiga kita dapat menggunakan simbol ^.\n",
        "\n",
        "\n",
        "\n"
      ],
      "metadata": {
        "id": "xRD7w4cIRQzL"
      }
    },
    {
      "cell_type": "code",
      "source": [
        "plt.plot(t, t, 'r--')\n",
        "plt.plot(t, t**2, 'bs')\n",
        "plt.plot(t, t**3, 'g^')\n",
        "plt.show()\n"
      ],
      "metadata": {
        "colab": {
          "base_uri": "https://localhost:8080/",
          "height": 265
        },
        "id": "lcqa0pmxRbcX",
        "outputId": "99b598c4-09eb-4f86-e134-010055719de8"
      },
      "execution_count": 7,
      "outputs": [
        {
          "output_type": "display_data",
          "data": {
            "text/plain": [
              "<Figure size 432x288 with 1 Axes>"
            ],
            "image/png": "[encoded data removed]"
          },
          "metadata": {
            "needs_background": "light"
          }
        }
      ]
    },
    {
      "cell_type": "markdown",
      "source": [
        "Kita juga dapat melakukan multi plot dalam satu pemanggilan fungsi plot()"
      ],
      "metadata": {
        "id": "w5PM10fhRfl9"
      }
    },
    {
      "cell_type": "code",
      "source": [
        "plt.plot(t, t, 'r--',    # Plotting 1\n",
        "         t, t**2, 'bs',  # Plotting 2\n",
        "         t, t**3, 'g^')  # Plotting 3\n",
        "plt.show()"
      ],
      "metadata": {
        "colab": {
          "base_uri": "https://localhost:8080/",
          "height": 265
        },
        "id": "ya1PGH-7Reje",
        "outputId": "b6748354-3257-4f0b-d8be-6abc95c71c44"
      },
      "execution_count": 8,
      "outputs": [
        {
          "output_type": "display_data",
          "data": {
            "text/plain": [
              "<Figure size 432x288 with 1 Axes>"
            ],
            "image/png": "[encoded data removed]"
          },
          "metadata": {
            "needs_background": "light"
          }
        }
      ]
    },
    {
      "cell_type": "markdown",
      "source": [
        "**Plotting dengan keywords**"
      ],
      "metadata": {
        "id": "_5vc8Nd3RjPP"
      }
    },
    {
      "cell_type": "markdown",
      "source": [
        "Matplotlib juga memungkinkan kita untuk melakukan plotting sekumpulan nilai yang tersimpan dalam struktur data yang disertai keywords argument (kwargs) seperti pada dictionary dan Pandas DataFrame"
      ],
      "metadata": {
        "id": "a4b7IWMGRloo"
      }
    },
    {
      "cell_type": "code",
      "source": [
        "data = {'a': np.arange(50), # A akan arrange berjumlah 50\n",
        "        'c': np.random.randint(0, 50, 50), # C akan mengambil random integer sebanyak 50\n",
        "        'd': np.random.randn(50)} # D akan menghasilkan bilangan acak sebanyak 50\n",
        "data['b'] = data['a'] + 10 * np.random.randn(50) # B adalah nilai key A ditambah 10 dan melakukan random sebanyak 50\n",
        "data['d'] = np.abs(data['d']) * 100 # D akan mengadopsi data dari D dan dikali 100\n",
        "\n",
        "data"
      ],
      "metadata": {
        "colab": {
          "base_uri": "https://localhost:8080/"
        },
        "id": "gs8WBBOsRoMt",
        "outputId": "87cf4b98-ac7a-4b76-e4da-60a9c710f718"
      },
      "execution_count": 9,
      "outputs": [
        {
          "output_type": "execute_result",
          "data": {
            "text/plain": [
              "{'a': array([ 0,  1,  2,  3,  4,  5,  6,  7,  8,  9, 10, 11, 12, 13, 14, 15, 16,\n",
              "        17, 18, 19, 20, 21, 22, 23, 24, 25, 26, 27, 28, 29, 30, 31, 32, 33,\n",
              "        34, 35, 36, 37, 38, 39, 40, 41, 42, 43, 44, 45, 46, 47, 48, 49]),\n",
              " 'c': array([ 5, 19, 33, 43, 32,  8, 12, 39, 37, 21,  8, 27, 10, 33, 47,  7,  6,\n",
              "        25, 31,  9, 19, 24, 49, 32,  6, 49, 41, 30, 12, 39, 10, 12, 36, 26,\n",
              "         6, 36, 44, 28, 42, 29, 25, 48, 37, 18,  6, 18, 24, 12, 42, 35]),\n",
              " 'd': array([ 98.24383111,  87.93518478,  77.83637501,  26.52966416,\n",
              "         29.35038861,  25.06145245,  17.8789873 ,  41.842887  ,\n",
              "         91.96853529, 103.18304358,  38.62712186,  24.73869593,\n",
              "        142.38724146,  67.89579133, 118.18075576,  63.83439092,\n",
              "         83.23941468, 162.83416878,  34.82329709,   7.86054844,\n",
              "         56.47146793,  52.97527906,  14.21647481,  20.49809743,\n",
              "         28.14061589,   7.38233896,  26.5495839 , 113.36721423,\n",
              "        110.82972551,  53.74229267, 138.02031095, 188.37707214,\n",
              "          2.77484656, 107.14028273, 116.41467356,  60.43876919,\n",
              "        124.95098673,  26.14343452, 106.71023718,   2.43311155,\n",
              "        251.25096522, 188.16585284,  15.77696532,  15.41800752,\n",
              "        120.38324361,  24.98615493, 164.13508872, 100.12660319,\n",
              "        182.35324589,  52.54416975]),\n",
              " 'b': array([ 0.93420292,  5.36486053, -8.22991221, 13.77398223, -5.41767944,\n",
              "         0.55588411,  7.20873586,  4.8116094 ,  6.18504142, -7.69532761,\n",
              "        11.63586339,  3.26600529, 13.85815343, 18.18601682, 19.77235632,\n",
              "        16.1161932 , 27.41813134, 29.51869111,  5.63685776, 25.76592576,\n",
              "         3.69777938, 21.92197081, 20.72367432, 33.57387239, 28.99108522,\n",
              "        26.81588028, 30.9701887 , 15.63045282, 41.44431474, 28.37291935,\n",
              "        36.74764109, 15.90246055, 24.00307336, 30.76616842, 37.82408064,\n",
              "        17.47497901, 37.65270854, 37.21389062, 35.50884288, 26.16846638,\n",
              "        39.3081133 , 41.58324167, 48.90911101, 19.41914417, 38.52256324,\n",
              "        22.57693337, 48.62720056, 36.02424655, 50.4358248 , 39.818981  ])}"
            ]
          },
          "metadata": {},
          "execution_count": 9
        }
      ]
    },
    {
      "cell_type": "code",
      "source": [
        "plt.scatter('a', 'b', data=data) \n",
        "\n",
        "# Memberi nama pada X dan Y menjadi A dan B\n",
        "plt.xlabel('entry a') \n",
        "plt.ylabel('entry b')\n",
        "\n",
        "plt.show()"
      ],
      "metadata": {
        "colab": {
          "base_uri": "https://localhost:8080/",
          "height": 279
        },
        "id": "wkwebaXmWR5T",
        "outputId": "06e3d811-d1bc-4576-b749-799e2864e6cc"
      },
      "execution_count": 10,
      "outputs": [
        {
          "output_type": "display_data",
          "data": {
            "text/plain": [
              "<Figure size 432x288 with 1 Axes>"
            ],
            "image/png": "[encoded data removed]"
          },
          "metadata": {
            "needs_background": "light"
          }
        }
      ]
    },
    {
      "cell_type": "code",
      "source": [
        "plt.scatter('a', 'b', c='c', s='d', data=data) # C merepresentasikan warna dan S merepresentasikan ukuran\n",
        "plt.xlabel('entry a')\n",
        "plt.ylabel('entry b')\n",
        "plt.show()"
      ],
      "metadata": {
        "colab": {
          "base_uri": "https://localhost:8080/",
          "height": 279
        },
        "id": "IzlsbwhZWZqU",
        "outputId": "332e0c99-3d7a-45da-9deb-6049990f9613"
      },
      "execution_count": 11,
      "outputs": [
        {
          "output_type": "display_data",
          "data": {
            "text/plain": [
              "<Figure size 432x288 with 1 Axes>"
            ],
            "image/png": "[encoded data removed]"
          },
          "metadata": {
            "needs_background": "light"
          }
        }
      ]
    },
    {
      "cell_type": "markdown",
      "source": [
        "**Plotting untuk tipe data categorical**"
      ],
      "metadata": {
        "id": "6WKSyZuXWnVt"
      }
    },
    {
      "cell_type": "markdown",
      "source": [],
      "metadata": {
        "id": "6-TcOk75Wp3D"
      }
    },
    {
      "cell_type": "markdown",
      "source": [
        "Matplotlib juga mendukung plotting untuk data dengan tipe kategori atau biasa dikenal dengan istilah categorical data atau categorical variables."
      ],
      "metadata": {
        "id": "iiXHeYLTWrSm"
      }
    },
    {
      "cell_type": "code",
      "source": [
        "names = ['group_a', 'group_b', 'group_c'] \n",
        "values = [1, 10, 100] "
      ],
      "metadata": {
        "id": "8P5JWZylWt6_"
      },
      "execution_count": 12,
      "outputs": []
    },
    {
      "cell_type": "code",
      "source": [
        "plt.plot(names, values) # plot(x, y)\n",
        "plt.show()"
      ],
      "metadata": {
        "colab": {
          "base_uri": "https://localhost:8080/",
          "height": 266
        },
        "id": "J2c9gGGNWvf2",
        "outputId": "77ae3e14-b7c3-4d55-b0a4-b58a8b3ef7b0"
      },
      "execution_count": 13,
      "outputs": [
        {
          "output_type": "display_data",
          "data": {
            "text/plain": [
              "<Figure size 432x288 with 1 Axes>"
            ],
            "image/png": "[encoded data removed]"
          },
          "metadata": {
            "needs_background": "light"
          }
        }
      ]
    },
    {
      "cell_type": "code",
      "source": [
        "plt.scatter(names, values) # scatter(x, y)\n",
        "plt.show()"
      ],
      "metadata": {
        "id": "K1OPPf48Wz4J",
        "outputId": "c45404bc-222e-48b2-9064-727199886057",
        "colab": {
          "base_uri": "https://localhost:8080/",
          "height": 266
        }
      },
      "execution_count": 14,
      "outputs": [
        {
          "output_type": "display_data",
          "data": {
            "text/plain": [
              "<Figure size 432x288 with 1 Axes>"
            ],
            "image/png": "[encoded data removed]"
          },
          "metadata": {
            "needs_background": "light"
          }
        }
      ]
    },
    {
      "cell_type": "code",
      "source": [
        "plt.bar(names, values) # bar(x, y)\n",
        "plt.show()"
      ],
      "metadata": {
        "id": "3_Sm2XkXW1-W",
        "outputId": "3fa40376-6bac-4a06-dbbc-81fae048b35f",
        "colab": {
          "base_uri": "https://localhost:8080/",
          "height": 266
        }
      },
      "execution_count": 15,
      "outputs": [
        {
          "output_type": "display_data",
          "data": {
            "text/plain": [
              "<Figure size 432x288 with 1 Axes>"
            ],
            "image/png": "[encoded data removed]"
          },
          "metadata": {
            "needs_background": "light"
          }
        }
      ]
    }
  ]
}