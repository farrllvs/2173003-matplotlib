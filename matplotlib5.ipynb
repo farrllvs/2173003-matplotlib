{
  "nbformat": 4,
  "nbformat_minor": 0,
  "metadata": {
    "colab": {
      "provenance": []
    },
    "kernelspec": {
      "name": "python3",
      "display_name": "Python 3"
    },
    "language_info": {
      "name": "python"
    }
  },
  "cells": [
    {
      "cell_type": "markdown",
      "source": [
        "**Matplotlib 05**"
      ],
      "metadata": {
        "id": "yAe8xqb0gqwn"
      }
    },
    {
      "cell_type": "markdown",
      "source": [
        "**Belajar Bar Plot | Bar Chart**"
      ],
      "metadata": {
        "id": "PXmzORWJg4YA"
      }
    },
    {
      "cell_type": "markdown",
      "source": [
        "**Import Modules**"
      ],
      "metadata": {
        "id": "oS2CyNc1g7Tv"
      }
    },
    {
      "cell_type": "code",
      "execution_count": 1,
      "metadata": {
        "id": "PGHmE_mFf7kB"
      },
      "outputs": [],
      "source": [
        "%matplotlib inline"
      ]
    },
    {
      "cell_type": "code",
      "source": [
        "import matplotlib\n",
        "import matplotlib.pyplot as plt\n",
        "import numpy as np\n",
        "\n",
        "print(matplotlib.__version__)\n",
        "print(np.__version__)"
      ],
      "metadata": {
        "colab": {
          "base_uri": "https://localhost:8080/"
        },
        "id": "X_o_4jdkhA3J",
        "outputId": "294d0b92-3b3b-4e5d-b8af-14370f3d2553"
      },
      "execution_count": 2,
      "outputs": [
        {
          "output_type": "stream",
          "name": "stdout",
          "text": [
            "3.2.2\n",
            "1.21.6\n"
          ]
        }
      ]
    },
    {
      "cell_type": "markdown",
      "source": [
        "**Simple Bar Plot**"
      ],
      "metadata": {
        "id": "t-gUmkWFhGcU"
      }
    },
    {
      "cell_type": "code",
      "source": [
        "data = [25, 45, 55, 125, 225] #data Integer\n",
        "kategori = ['A', 'B', 'C', 'D', 'E'] #data String"
      ],
      "metadata": {
        "id": "vTNGMU16hIPO"
      },
      "execution_count": 3,
      "outputs": []
    },
    {
      "cell_type": "code",
      "source": [
        "plt.bar(kategori, data)#digunakan untuk membuat plot\n",
        "plt.grid()\n",
        "\n",
        "plt.xlabel('Kategori')#memberi label di X axis\n",
        "plt.ylabel('Jumlah')#memberi label di Y axis\n",
        "plt.title('Contoh Bar Plot')#memberi judul\n",
        "\n",
        "plt.show()"
      ],
      "metadata": {
        "colab": {
          "base_uri": "https://localhost:8080/",
          "height": 295
        },
        "id": "SBBA1R1ghXBN",
        "outputId": "f6653017-4c06-48c9-a327-b03cb454339a"
      },
      "execution_count": 4,
      "outputs": [
        {
          "output_type": "display_data",
          "data": {
            "text/plain": [
              "<Figure size 432x288 with 1 Axes>"
            ],
            "image/png": "[encoded data removed]"
          },
          "metadata": {
            "needs_background": "light"
          }
        }
      ]
    },
    {
      "cell_type": "markdown",
      "source": [
        "**Pengaturan Grid dan Color**"
      ],
      "metadata": {
        "id": "pBrMHw76jnUz"
      }
    },
    {
      "cell_type": "code",
      "source": [
        "data = [25, 45, 55, 125, 225]\n",
        "kategori = ['A', 'B', 'C', 'D', 'E']"
      ],
      "metadata": {
        "id": "GKSlRfkajoxg"
      },
      "execution_count": 5,
      "outputs": []
    },
    {
      "cell_type": "code",
      "source": [
        "plt.bar(kategori, \n",
        "        data, \n",
        "        color='red', #mengatur warna \n",
        "        alpha=0.25) #mengatur ketebalan bar\n",
        "\n",
        "plt.grid(linestyle='--', #menunjukan style garis yang diinginkan\n",
        "         linewidth=2, #mengatur ketebalan garis \n",
        "         axis='y', # pilihan yang mau digaris ada x, y, both\n",
        "         alpha=0.50) #mengatur ketebalan bar\n",
        "\n",
        "plt.xlabel('Kategori') #memberi label pada X axis\n",
        "plt.ylabel('Jumlah') #memberi label pada Y axis\n",
        "plt.title('Contoh Bar Plot') #memberi judul\n",
        "\n",
        "plt.show()"
      ],
      "metadata": {
        "colab": {
          "base_uri": "https://localhost:8080/",
          "height": 295
        },
        "id": "rjU4y8orjz1U",
        "outputId": "e3de3419-66ac-4cbc-c78b-251139742666"
      },
      "execution_count": 6,
      "outputs": [
        {
          "output_type": "display_data",
          "data": {
            "text/plain": [
              "<Figure size 432x288 with 1 Axes>"
            ],
            "image/png": "[encoded data removed]"
          },
          "metadata": {
            "needs_background": "light"
          }
        }
      ]
    },
    {
      "cell_type": "markdown",
      "source": [
        "**Horizontal Bar Plot**"
      ],
      "metadata": {
        "id": "R0dpQdFjk3Iz"
      }
    },
    {
      "cell_type": "code",
      "source": [
        "data = [25, 45, 55, 125, 225]\n",
        "kategori = ['A', 'B', 'C', 'D', 'E']"
      ],
      "metadata": {
        "id": "5tcBAZsZk-d7"
      },
      "execution_count": 7,
      "outputs": []
    },
    {
      "cell_type": "code",
      "source": [
        "plt.barh(kategori, data) #membuat data menjadi horizontal\n",
        "# plt.barh(kategori[::-1], data[::-1])memanfaatkan slicing\n",
        "\n",
        "plt.grid(linestyle='--', #menunjukan style garis yang diinginkan\n",
        "         linewidth=1, #mengatur ketebalan garis \n",
        "         axis='x', #pilihan yang mau digaris ada x, y, both\n",
        "         alpha=0.75) #mengatur ketebalan bar\n",
        "\n",
        "plt.xlabel('Jumlah') #memberi label pada X axis\n",
        "plt.ylabel('Kategori') #memberi label pada Y axis\n",
        "plt.title('Contoh Horisontal Bar Plot') #memberi judul\n",
        "\n",
        "plt.show()"
      ],
      "metadata": {
        "colab": {
          "base_uri": "https://localhost:8080/",
          "height": 295
        },
        "id": "P3c-r4uwlGl5",
        "outputId": "61d7c4d0-4f67-4d35-9124-017ae57b03be"
      },
      "execution_count": 8,
      "outputs": [
        {
          "output_type": "display_data",
          "data": {
            "text/plain": [
              "<Figure size 432x288 with 1 Axes>"
            ],
            "image/png": "[encoded data removed]"
          },
          "metadata": {
            "needs_background": "light"
          }
        }
      ]
    },
    {
      "cell_type": "markdown",
      "source": [
        "**Stacked Bar Plot**"
      ],
      "metadata": {
        "id": "0EAdkQ9olmt-"
      }
    },
    {
      "cell_type": "code",
      "source": [
        "data1 = [25, 85, 75, 40, 60]\n",
        "data2 = [40, 35, 20, 55, 10]\n",
        "kategori = ['A', 'B', 'C', 'D', 'E']"
      ],
      "metadata": {
        "id": "v-m9V_77ltfp"
      },
      "execution_count": 9,
      "outputs": []
    },
    {
      "cell_type": "code",
      "source": [
        "plt.bar(kategori, data1, label='Data 1')\n",
        "# plt.bar(kategori, data2, label='Data 2')\n",
        "plt.bar(kategori, data2, label='Data 2', bottom=data1) # Parameter bottom digunakkan untuk menentukan posisi,apabila tidak digunakan maka data akan tertumpuk\n",
        "\n",
        "plt.legend()\n",
        "\n",
        "plt.grid(linestyle='--', \n",
        "         linewidth=1, \n",
        "         axis='y',\n",
        "         alpha=0.75)\n",
        "\n",
        "plt.xlabel('Kategori')\n",
        "plt.ylabel('Jumlah')\n",
        "plt.title('Contoh Stacked Bar Plot')\n",
        "\n",
        "plt.show()"
      ],
      "metadata": {
        "colab": {
          "base_uri": "https://localhost:8080/",
          "height": 295
        },
        "id": "I5XGYJP-l0i6",
        "outputId": "35c80510-be83-42c6-892b-88cefbb4712e"
      },
      "execution_count": 10,
      "outputs": [
        {
          "output_type": "display_data",
          "data": {
            "text/plain": [
              "<Figure size 432x288 with 1 Axes>"
            ],
            "image/png": "[encoded data removed]"
          },
          "metadata": {
            "needs_background": "light"
          }
        }
      ]
    },
    {
      "cell_type": "markdown",
      "source": [
        "**Grouped Bar Plot**"
      ],
      "metadata": {
        "id": "4A4LvWd9l6mJ"
      }
    },
    {
      "cell_type": "code",
      "source": [
        "data1 = [25,85, 75, 40, 60]\n",
        "data2 = [40, 35, 20, 55, 10]\n",
        "kategori = ['A', 'B', 'C', 'D', 'E']\n",
        "\n",
        "x = np.arange(len(kategori)) # Membuat array deret bilangan\n",
        "x"
      ],
      "metadata": {
        "colab": {
          "base_uri": "https://localhost:8080/"
        },
        "id": "qYAdYrJsl-GD",
        "outputId": "6d8f5ff9-ff3b-4223-8701-e77b2c6d1102"
      },
      "execution_count": 11,
      "outputs": [
        {
          "output_type": "execute_result",
          "data": {
            "text/plain": [
              "array([0, 1, 2, 3, 4])"
            ]
          },
          "metadata": {},
          "execution_count": 11
        }
      ]
    },
    {
      "cell_type": "code",
      "source": [
        "width = 0.35 #apabila semakin kecil maka jarak antar bar akan makin jauh\n",
        "\n",
        "plt.bar(x-width/2, data1, width, label='Data 1') \n",
        "plt.bar(x+width/2, data2, width, label='Data 2')\n",
        "#perbedaan dikurangi maupun ditambah adalah untuk titik tengah yang dibantu dengan X\n",
        "plt.xticks(x, kategori) # Digunakan untuk menentukan label setiap bar\n",
        "\n",
        "plt.grid(linestyle='--', \n",
        "         linewidth=1, \n",
        "         axis='y',\n",
        "         alpha=0.75)\n",
        "\n",
        "plt.xlabel('Kategori')\n",
        "plt.ylabel('Jumlah')\n",
        "plt.title('Contoh Grouped Bar Plot')\n",
        "\n",
        "plt.legend()\n",
        "plt.show()"
      ],
      "metadata": {
        "colab": {
          "base_uri": "https://localhost:8080/",
          "height": 295
        },
        "id": "cJbws6nNmHQY",
        "outputId": "23b0e136-6b90-402a-cf78-cc9359d95a3d"
      },
      "execution_count": 12,
      "outputs": [
        {
          "output_type": "display_data",
          "data": {
            "text/plain": [
              "<Figure size 432x288 with 1 Axes>"
            ],
            "image/png": "[encoded data removed]"
          },
          "metadata": {
            "needs_background": "light"
          }
        }
      ]
    }
  ]
}